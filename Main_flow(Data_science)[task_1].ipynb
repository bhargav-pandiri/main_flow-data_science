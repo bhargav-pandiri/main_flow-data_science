{
  "nbformat": 4,
  "nbformat_minor": 0,
  "metadata": {
    "colab": {
      "provenance": []
    },
    "kernelspec": {
      "name": "python3",
      "display_name": "Python 3"
    },
    "language_info": {
      "name": "python"
    }
  },
  "cells": [
    {
      "cell_type": "code",
      "execution_count": 2,
      "metadata": {
        "id": "AxCmL-bJWVRs"
      },
      "outputs": [],
      "source": [
        "# Task -1"
      ]
    },
    {
      "cell_type": "code",
      "source": [
        "# Creating a list\n",
        "my_list = [1, 2, 3, 4, 5]\n",
        "\n",
        "# Adding elements to the list\n",
        "my_list.append(6)\n",
        "my_list.extend([7, 8])\n",
        "print(\"List after adding elements:\", my_list)\n"
      ],
      "metadata": {
        "colab": {
          "base_uri": "https://localhost:8080/",
          "height": 0
        },
        "id": "LFz6MyJGbyTa",
        "outputId": "738139b7-9cb1-46b7-a627-bfb14d90eca4"
      },
      "execution_count": 3,
      "outputs": [
        {
          "output_type": "stream",
          "name": "stdout",
          "text": [
            "List after adding elements: [1, 2, 3, 4, 5, 6, 7, 8]\n"
          ]
        }
      ]
    },
    {
      "cell_type": "code",
      "source": [
        "\n",
        "# Removing elements from the list\n",
        "my_list.remove(3)\n",
        "print(\"List after removing element 3:\", my_list)\n"
      ],
      "metadata": {
        "colab": {
          "base_uri": "https://localhost:8080/",
          "height": 0
        },
        "id": "_yM5wi7CbyQf",
        "outputId": "1e475954-9814-4e71-e681-6fa0cfc8c2f3"
      },
      "execution_count": 4,
      "outputs": [
        {
          "output_type": "stream",
          "name": "stdout",
          "text": [
            "List after removing element 3: [1, 2, 4, 5, 6, 7, 8]\n"
          ]
        }
      ]
    },
    {
      "cell_type": "code",
      "source": [
        "\n",
        "# Modifying an element in the list\n",
        "my_list[0] = 0\n",
        "print(\"List after modifying first element:\", my_list)\n"
      ],
      "metadata": {
        "colab": {
          "base_uri": "https://localhost:8080/",
          "height": 0
        },
        "id": "yMv5EABlbyNb",
        "outputId": "70a32f72-3705-4bb6-c631-953fb40bd9be"
      },
      "execution_count": 5,
      "outputs": [
        {
          "output_type": "stream",
          "name": "stdout",
          "text": [
            "List after modifying first element: [0, 2, 4, 5, 6, 7, 8]\n"
          ]
        }
      ]
    },
    {
      "cell_type": "code",
      "source": [
        "\n",
        "# Creating a dictionary\n",
        "my_dict = {'a': 1, 'b': 2, 'c': 3}\n",
        "\n",
        "# Adding elements to the dictionary\n",
        "my_dict['d'] = 4\n",
        "my_dict.update({'e': 5, 'f': 6})\n",
        "print(\"Dictionary after adding elements:\", my_dict)\n"
      ],
      "metadata": {
        "colab": {
          "base_uri": "https://localhost:8080/",
          "height": 0
        },
        "id": "YI5ybomQbyL2",
        "outputId": "95d40afd-f360-44fd-88cc-ca6c8d987825"
      },
      "execution_count": 6,
      "outputs": [
        {
          "output_type": "stream",
          "name": "stdout",
          "text": [
            "Dictionary after adding elements: {'a': 1, 'b': 2, 'c': 3, 'd': 4, 'e': 5, 'f': 6}\n"
          ]
        }
      ]
    },
    {
      "cell_type": "code",
      "source": [
        "\n",
        "# Removing elements from the dictionary\n",
        "del my_dict['b']\n",
        "print(\"Dictionary after removing key 'b':\", my_dict)\n"
      ],
      "metadata": {
        "colab": {
          "base_uri": "https://localhost:8080/",
          "height": 0
        },
        "id": "PY6L7lDcb7Bu",
        "outputId": "e9ac163d-6de2-48af-ea1c-22d4ca376aa6"
      },
      "execution_count": 7,
      "outputs": [
        {
          "output_type": "stream",
          "name": "stdout",
          "text": [
            "Dictionary after removing key 'b': {'a': 1, 'c': 3, 'd': 4, 'e': 5, 'f': 6}\n"
          ]
        }
      ]
    },
    {
      "cell_type": "code",
      "source": [
        "\n",
        "# Modifying an element in the dictionary\n",
        "my_dict['a'] = 0\n",
        "print(\"Dictionary after modifying value of key 'a':\", my_dict)\n"
      ],
      "metadata": {
        "colab": {
          "base_uri": "https://localhost:8080/",
          "height": 0
        },
        "id": "87FOmimPb6-Q",
        "outputId": "5ccbd26b-4354-4d37-9083-c25af063716a"
      },
      "execution_count": 8,
      "outputs": [
        {
          "output_type": "stream",
          "name": "stdout",
          "text": [
            "Dictionary after modifying value of key 'a': {'a': 0, 'c': 3, 'd': 4, 'e': 5, 'f': 6}\n"
          ]
        }
      ]
    },
    {
      "cell_type": "code",
      "source": [
        "\n",
        "# Creating a set\n",
        "my_set = {1, 2, 3, 4, 5}\n",
        "\n",
        "# Adding elements to the set\n",
        "my_set.add(6)\n",
        "my_set.update({7, 8})\n",
        "print(\"Set after adding elements:\", my_set)\n"
      ],
      "metadata": {
        "colab": {
          "base_uri": "https://localhost:8080/",
          "height": 0
        },
        "id": "HFvdc2rWb680",
        "outputId": "60c94e1f-f3a5-482b-f71c-24eaae1ae945"
      },
      "execution_count": 9,
      "outputs": [
        {
          "output_type": "stream",
          "name": "stdout",
          "text": [
            "Set after adding elements: {1, 2, 3, 4, 5, 6, 7, 8}\n"
          ]
        }
      ]
    },
    {
      "cell_type": "code",
      "source": [
        "\n",
        "# Removing elements from the set\n",
        "my_set.remove(3)\n",
        "print(\"Set after removing element 3:\", my_set)"
      ],
      "metadata": {
        "colab": {
          "base_uri": "https://localhost:8080/",
          "height": 0
        },
        "id": "YOKPIl8HWar4",
        "outputId": "76201f50-d50d-468f-c1e6-4a9c85f24d4c"
      },
      "execution_count": 10,
      "outputs": [
        {
          "output_type": "stream",
          "name": "stdout",
          "text": [
            "Set after removing element 3: {1, 2, 4, 5, 6, 7, 8}\n"
          ]
        }
      ]
    },
    {
      "cell_type": "code",
      "source": [
        "\n"
      ],
      "metadata": {
        "id": "4koHxzvQbqxo"
      },
      "execution_count": 10,
      "outputs": []
    }
  ]
}